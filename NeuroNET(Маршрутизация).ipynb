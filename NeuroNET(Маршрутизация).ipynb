{
 "cells": [
  {
   "cell_type": "code",
   "execution_count": null,
   "metadata": {},
   "outputs": [],
   "source": [
    "import numpy as np\n",
    "import matplotlib.pyplot as plt"
   ]
  },
  {
   "cell_type": "code",
   "execution_count": 6,
   "metadata": {},
   "outputs": [
    {
     "name": "stdout",
     "output_type": "stream",
     "text": [
      "Error: 0.5789896979188494\n",
      "Error: 0.002110513303079811\n",
      "Error: 0.0014602972643277898\n",
      "Error: 0.0011794755809837161\n",
      "Error: 0.0010143146984253027\n",
      "Error: 0.0009026108214550583\n",
      "Выход\n",
      "[[1.12489211e-03]\n",
      " [9.86972664e-04]\n",
      " [9.98464278e-01]\n",
      " [9.98585074e-01]\n",
      " [1.67953252e-05]\n",
      " [2.45351647e-05]\n",
      " [8.56755715e-04]\n",
      " [8.05125316e-04]\n",
      " [9.88068561e-04]\n",
      " [8.32920870e-04]\n",
      " [9.98545565e-01]\n",
      " [9.98469595e-01]\n",
      " [2.21266553e-05]\n",
      " [3.08899494e-05]\n",
      " [7.87354873e-04]\n",
      " [7.19381666e-04]]\n"
     ]
    },
    {
     "data": {
      "text/plain": [
       "[<matplotlib.lines.Line2D at 0x26af24409b0>]"
      ]
     },
     "execution_count": 6,
     "metadata": {},
     "output_type": "execute_result"
    },
    {
     "data": {
      "image/png": "[encoded data removed]",
      "text/plain": [
       "<matplotlib.figure.Figure at 0x26aef089470>"
      ]
     },
     "metadata": {},
     "output_type": "display_data"
    }
   ],
   "source": [
    "def nonlin(x, deriv=False):\n",
    "    if(deriv==True):\n",
    "        return (x*(1-x))\n",
    "    \n",
    "    return 1/(1+np.exp(-x))\n",
    "\n",
    "#Входные данные 5 значение - смещение\n",
    "X = np.array([[0, 0, 0, 0, 1],\n",
    "            [0, 0, 0, 1, 1],\n",
    "            [0, 0, 1, 0, 1],\n",
    "            [0, 0, 1, 1, 1],\n",
    "            [0, 1, 0, 0, 1],\n",
    "            [0, 1, 0, 1, 1],\n",
    "            [0, 1, 1, 0, 1],\n",
    "            [0, 1, 1, 1, 1],\n",
    "            [1, 0, 0, 0, 1],\n",
    "            [1, 0, 0, 1, 1],\n",
    "            [1, 0, 1, 0, 1],\n",
    "            [1, 0, 1, 1, 1],\n",
    "            [1, 1, 0, 0, 1],\n",
    "            [1, 1, 0, 1, 1],\n",
    "            [1, 1, 1, 0, 1],\n",
    "            [1, 1, 1, 1, 1]])\n",
    "\n",
    "#Выходные значения\n",
    "y = np.array([[0],\n",
    "             [0],\n",
    "             [1],\n",
    "             [1],\n",
    "             [0],\n",
    "             [0],\n",
    "             [0],\n",
    "             [0],\n",
    "             [0],\n",
    "             [0],\n",
    "             [1],\n",
    "             [1],\n",
    "             [0],\n",
    "             [0],\n",
    "             [0],\n",
    "             [0]])\n",
    "\n",
    "# Начальное значение для генератора случайных чисел установлено так,\n",
    "# что он будет возвращать одинаковые случайные числа каждый раз,\n",
    "# что иногда полезно для отладки.\n",
    "np.random.seed(1)\n",
    "\n",
    "# Теперь мы вводим веса в случайные значения. syn0-это веса между входным и скрытым слоями.\n",
    "# Это матрица 3x4, потому что есть два входных веса плюс член смещения (=3) и четыре узла\n",
    "# в скрытом слое (=4). syn1-это веса между скрытым и выходным слоями. Это матрица 4x1,\n",
    "# потому что есть 4 узла в скрытом слое и один выход.\n",
    "\n",
    "#Синапсы\n",
    "syn0 = 2*np.random.random((5,4)) - 1  # 3x4 матрица весов ((2 входа + 1 смещение) x 4 узла в скрытом слое)\n",
    "syn1 = 2*np.random.random((4,1)) - 1  # 4x1 матрица весов .  (4 узла x 1 выход) - нет смещения в скрытом слое.\n",
    "\n",
    "\n",
    "for j in range(60000):  \n",
    "    \n",
    "\n",
    "    l0 = X\n",
    "    l1 = nonlin(np.dot(l0, syn0))\n",
    "    l2 = nonlin(np.dot(l1, syn1), 14)\n",
    "    \n",
    "    \n",
    "    l2_error = y - l2\n",
    "    if(j % 10000) == 0:   # Only print the error every 10000 steps, to save time and limit the amount of output. \n",
    "        print(\"Error: \" + str(np.mean(np.abs(l2_error))))\n",
    "        \n",
    "    l2_delta = l2_error*nonlin(l2, deriv=True)\n",
    "    \n",
    "    l1_error = l2_delta.dot(syn1.T)\n",
    "    \n",
    "    l1_delta = l1_error * nonlin(l1,deriv=True)\n",
    "    \n",
    "    #update weights (no learning rate term)\n",
    "    syn1 += l1.T.dot(l2_delta)\n",
    "    syn0 += l0.T.dot(l1_delta)\n",
    "    \n",
    "print(\"Выход\")\n",
    "print(l2)\n",
    "plt.plot(l2)"
   ]
  },
  {
   "cell_type": "code",
   "execution_count": null,
   "metadata": {},
   "outputs": [],
   "source": []
  },
  {
   "cell_type": "code",
   "execution_count": null,
   "metadata": {},
   "outputs": [],
   "source": []
  }
 ],
 "metadata": {
  "kernelspec": {
   "display_name": "Python 3",
   "language": "python",
   "name": "python3"
  },
  "language_info": {
   "codemirror_mode": {
    "name": "ipython",
    "version": 3
   },
   "file_extension": ".py",
   "mimetype": "text/x-python",
   "name": "python",
   "nbconvert_exporter": "python",
   "pygments_lexer": "ipython3",
   "version": "3.6.4"
  }
 },
 "nbformat": 4,
 "nbformat_minor": 2
}
